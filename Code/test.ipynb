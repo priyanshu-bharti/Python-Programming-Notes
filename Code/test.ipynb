{
 "cells": [
  {
   "cell_type": "code",
   "execution_count": 26,
   "metadata": {},
   "outputs": [
    {
     "name": "stdout",
     "output_type": "stream",
     "text": [
      "1 2 3 4 5\n"
     ]
    }
   ],
   "source": [
    "string = \"This is a centered string\"\n",
    "string2 = \"Another string\"\n",
    "\n",
    "alnum = \"23adsfa\"\n",
    "old = \"is\"\n",
    "new = \"was\"\n",
    "sub = \"This\"\n",
    "\n",
    "# Operators\n",
    "string + string2 # Concatenate 2 strings together.\n",
    "string * 2 # Repeat the string 2 times.\n",
    "\n",
    "# Length\n",
    "len(string) # Returns the length of the string\n",
    "\n",
    "# Searching elements\n",
    "string.find('st') # Returns the first occurrence of the specified substring\n",
    "string.count('t') # Returns the number of occurrences of the specified substring\n",
    "\n",
    "# Casing of characters\n",
    "string.lower() # Returns all lower case characters\n",
    "string.upper() # Returns all upper case characters\n",
    "string.title() # Capitalizes each word in a string\n",
    "string.capitalize() # Capitalizes first letter in the string.\n",
    "\n",
    "# String Manipulation\n",
    "string.replace(old, new) # Replaces all occurrences of the specified substring\n",
    "\n",
    "# Check conditions\n",
    "string.isalnum() # Contains only alphabetic and numeric characters (not even space).\n",
    "string.isalpha() # Contains only alphabetic characters\n",
    "string.isdigit() # Contains only numeric characters\n",
    "string.islower() # Check if string is lower case\n",
    "string.isupper() # Check if string is upper case\n",
    "string.startswith(sub) # Check if string starts with a substring\n",
    "string.endswith(sub) # Check if string starts with a substring\n",
    "sub in string # Check if string contains a substring\n",
    "\n",
    "# Splitting string\n",
    "string = \"1 2 3 4 5\"\n",
    "string.split(\" \")\n",
    "\n",
    "# Store multiple numbers separated by spaces in a list\n",
    "list(map(int, string.split(\" \")))\n",
    "\n",
    "print(string)"
   ]
  },
  {
   "cell_type": "code",
   "execution_count": 35,
   "metadata": {},
   "outputs": [
    {
     "data": {
      "text/plain": [
       "'ilw'"
      ]
     },
     "execution_count": 35,
     "metadata": {},
     "output_type": "execute_result"
    }
   ],
   "source": [
    "string = \"Milwaukee\"\n",
    "\n",
    "#   M   i   l   w   a   u   k   e   e\n",
    "#   0   1   2   3   4   5   6   7   8\n",
    "#  -9  -8  -7  -6  -5  -4  -3  -2  -1\n",
    "\n",
    "string[1:]      # ilwaukee  : start at 1 till the end of string\n",
    "string[1:5:2]   # iw        : start at 1 till 4 (excluding 5) and skip till the 2nd element\n",
    "string[1:5:3]   # ia        : start at 1 till 4 (excluding 5) and skip till the 3rd element\n",
    "string[:3]      # Mil : start at 0 till 2 (excluding 3)\n",
    "string[-6:-1:3] # wk : Start at -6 till -2 (excluding -1) and skip till the 3rd element\n",
    "string[-5:5]    # a : Start at -5 till 4 (excluding 5)\n",
    "string[5:-5]    # Empty : There are no elements between 5 and 3 since 5 is greater.\n",
    "string[1:-5]    # ilw : start from 1 till -4 (excluding -5)"
   ]
  },
  {
   "cell_type": "code",
   "execution_count": 40,
   "metadata": {},
   "outputs": [
    {
     "name": "stdout",
     "output_type": "stream",
     "text": [
      "<re.Match object; span=(0, 4), match='This'>\n"
     ]
    }
   ],
   "source": [
    "import re # first import re\n",
    "\n",
    "string = \"This is a string\""
   ]
  },
  {
   "cell_type": "code",
   "execution_count": 7,
   "metadata": {},
   "outputs": [
    {
     "ename": "error",
     "evalue": "multiple repeat at position 25",
     "output_type": "error",
     "traceback": [
      "\u001b[0;31m---------------------------------------------------------------------------\u001b[0m",
      "\u001b[0;31merror\u001b[0m                                     Traceback (most recent call last)",
      "\u001b[1;32m/Users/pseudoslayr/Workspace/Notes/Python-Programming-Notes/Code/test.ipynb Cell 4'\u001b[0m in \u001b[0;36m<cell line: 15>\u001b[0;34m()\u001b[0m\n\u001b[1;32m      <a href='vscode-notebook-cell:/Users/pseudoslayr/Workspace/Notes/Python-Programming-Notes/Code/test.ipynb#ch0000003?line=2'>3</a>\u001b[0m pattern \u001b[39m=\u001b[39m \u001b[39m\"\u001b[39m\u001b[39m[a-z]+[A-Z]+[@#$!]+[0-9]+\u001b[39m\u001b[39m{\u001b[39m\u001b[39m8,}\u001b[39m\u001b[39m\"\u001b[39m \u001b[39m# Check for password\u001b[39;00m\n\u001b[1;32m      <a href='vscode-notebook-cell:/Users/pseudoslayr/Workspace/Notes/Python-Programming-Notes/Code/test.ipynb#ch0000003?line=3'>4</a>\u001b[0m \u001b[39m# This checks that the password is at least 8 characters long\u001b[39;00m\n\u001b[1;32m      <a href='vscode-notebook-cell:/Users/pseudoslayr/Workspace/Notes/Python-Programming-Notes/Code/test.ipynb#ch0000003?line=4'>5</a>\u001b[0m \u001b[39m# Also it contains Lowercase and Uppercase letters, and digits\u001b[39;00m\n\u001b[1;32m      <a href='vscode-notebook-cell:/Users/pseudoslayr/Workspace/Notes/Python-Programming-Notes/Code/test.ipynb#ch0000003?line=5'>6</a>\u001b[0m \u001b[39m# And it has some special characters like @, #, $, !.\u001b[39;00m\n\u001b[0;32m   (...)\u001b[0m\n\u001b[1;32m     <a href='vscode-notebook-cell:/Users/pseudoslayr/Workspace/Notes/Python-Programming-Notes/Code/test.ipynb#ch0000003?line=11'>12</a>\u001b[0m \u001b[39m# Then they have @ (at) symbol followed by the domain name which again contains alphabets\u001b[39;00m\n\u001b[1;32m     <a href='vscode-notebook-cell:/Users/pseudoslayr/Workspace/Notes/Python-Programming-Notes/Code/test.ipynb#ch0000003?line=12'>13</a>\u001b[0m \u001b[39m# Then there is the period symbol (.) followed by the domain name consisting of 2-3 characters max.\u001b[39;00m\n\u001b[0;32m---> <a href='vscode-notebook-cell:/Users/pseudoslayr/Workspace/Notes/Python-Programming-Notes/Code/test.ipynb#ch0000003?line=14'>15</a>\u001b[0m \u001b[39mprint\u001b[39m(\u001b[39m\"\u001b[39m\u001b[39mvalid\u001b[39m\u001b[39m\"\u001b[39m \u001b[39mif\u001b[39;00m re\u001b[39m.\u001b[39;49msearch(pattern, \u001b[39minput\u001b[39;49m()) \u001b[39melse\u001b[39;00m \u001b[39m\"\u001b[39m\u001b[39minvalid\u001b[39m\u001b[39m\"\u001b[39m)\n",
      "File \u001b[0;32m/opt/homebrew/Cellar/python@3.9/3.9.12/Frameworks/Python.framework/Versions/3.9/lib/python3.9/re.py:201\u001b[0m, in \u001b[0;36msearch\u001b[0;34m(pattern, string, flags)\u001b[0m\n\u001b[1;32m    <a href='file:///opt/homebrew/Cellar/python%403.9/3.9.12/Frameworks/Python.framework/Versions/3.9/lib/python3.9/re.py?line=197'>198</a>\u001b[0m \u001b[39mdef\u001b[39;00m \u001b[39msearch\u001b[39m(pattern, string, flags\u001b[39m=\u001b[39m\u001b[39m0\u001b[39m):\n\u001b[1;32m    <a href='file:///opt/homebrew/Cellar/python%403.9/3.9.12/Frameworks/Python.framework/Versions/3.9/lib/python3.9/re.py?line=198'>199</a>\u001b[0m     \u001b[39m\"\"\"Scan through string looking for a match to the pattern, returning\u001b[39;00m\n\u001b[1;32m    <a href='file:///opt/homebrew/Cellar/python%403.9/3.9.12/Frameworks/Python.framework/Versions/3.9/lib/python3.9/re.py?line=199'>200</a>\u001b[0m \u001b[39m    a Match object, or None if no match was found.\"\"\"\u001b[39;00m\n\u001b[0;32m--> <a href='file:///opt/homebrew/Cellar/python%403.9/3.9.12/Frameworks/Python.framework/Versions/3.9/lib/python3.9/re.py?line=200'>201</a>\u001b[0m     \u001b[39mreturn\u001b[39;00m _compile(pattern, flags)\u001b[39m.\u001b[39msearch(string)\n",
      "File \u001b[0;32m/opt/homebrew/Cellar/python@3.9/3.9.12/Frameworks/Python.framework/Versions/3.9/lib/python3.9/re.py:304\u001b[0m, in \u001b[0;36m_compile\u001b[0;34m(pattern, flags)\u001b[0m\n\u001b[1;32m    <a href='file:///opt/homebrew/Cellar/python%403.9/3.9.12/Frameworks/Python.framework/Versions/3.9/lib/python3.9/re.py?line=301'>302</a>\u001b[0m \u001b[39mif\u001b[39;00m \u001b[39mnot\u001b[39;00m sre_compile\u001b[39m.\u001b[39misstring(pattern):\n\u001b[1;32m    <a href='file:///opt/homebrew/Cellar/python%403.9/3.9.12/Frameworks/Python.framework/Versions/3.9/lib/python3.9/re.py?line=302'>303</a>\u001b[0m     \u001b[39mraise\u001b[39;00m \u001b[39mTypeError\u001b[39;00m(\u001b[39m\"\u001b[39m\u001b[39mfirst argument must be string or compiled pattern\u001b[39m\u001b[39m\"\u001b[39m)\n\u001b[0;32m--> <a href='file:///opt/homebrew/Cellar/python%403.9/3.9.12/Frameworks/Python.framework/Versions/3.9/lib/python3.9/re.py?line=303'>304</a>\u001b[0m p \u001b[39m=\u001b[39m sre_compile\u001b[39m.\u001b[39;49mcompile(pattern, flags)\n\u001b[1;32m    <a href='file:///opt/homebrew/Cellar/python%403.9/3.9.12/Frameworks/Python.framework/Versions/3.9/lib/python3.9/re.py?line=304'>305</a>\u001b[0m \u001b[39mif\u001b[39;00m \u001b[39mnot\u001b[39;00m (flags \u001b[39m&\u001b[39m DEBUG):\n\u001b[1;32m    <a href='file:///opt/homebrew/Cellar/python%403.9/3.9.12/Frameworks/Python.framework/Versions/3.9/lib/python3.9/re.py?line=305'>306</a>\u001b[0m     \u001b[39mif\u001b[39;00m \u001b[39mlen\u001b[39m(_cache) \u001b[39m>\u001b[39m\u001b[39m=\u001b[39m _MAXCACHE:\n\u001b[1;32m    <a href='file:///opt/homebrew/Cellar/python%403.9/3.9.12/Frameworks/Python.framework/Versions/3.9/lib/python3.9/re.py?line=306'>307</a>\u001b[0m         \u001b[39m# Drop the oldest item\u001b[39;00m\n",
      "File \u001b[0;32m/opt/homebrew/Cellar/python@3.9/3.9.12/Frameworks/Python.framework/Versions/3.9/lib/python3.9/sre_compile.py:764\u001b[0m, in \u001b[0;36mcompile\u001b[0;34m(p, flags)\u001b[0m\n\u001b[1;32m    <a href='file:///opt/homebrew/Cellar/python%403.9/3.9.12/Frameworks/Python.framework/Versions/3.9/lib/python3.9/sre_compile.py?line=761'>762</a>\u001b[0m \u001b[39mif\u001b[39;00m isstring(p):\n\u001b[1;32m    <a href='file:///opt/homebrew/Cellar/python%403.9/3.9.12/Frameworks/Python.framework/Versions/3.9/lib/python3.9/sre_compile.py?line=762'>763</a>\u001b[0m     pattern \u001b[39m=\u001b[39m p\n\u001b[0;32m--> <a href='file:///opt/homebrew/Cellar/python%403.9/3.9.12/Frameworks/Python.framework/Versions/3.9/lib/python3.9/sre_compile.py?line=763'>764</a>\u001b[0m     p \u001b[39m=\u001b[39m sre_parse\u001b[39m.\u001b[39;49mparse(p, flags)\n\u001b[1;32m    <a href='file:///opt/homebrew/Cellar/python%403.9/3.9.12/Frameworks/Python.framework/Versions/3.9/lib/python3.9/sre_compile.py?line=764'>765</a>\u001b[0m \u001b[39melse\u001b[39;00m:\n\u001b[1;32m    <a href='file:///opt/homebrew/Cellar/python%403.9/3.9.12/Frameworks/Python.framework/Versions/3.9/lib/python3.9/sre_compile.py?line=765'>766</a>\u001b[0m     pattern \u001b[39m=\u001b[39m \u001b[39mNone\u001b[39;00m\n",
      "File \u001b[0;32m/opt/homebrew/Cellar/python@3.9/3.9.12/Frameworks/Python.framework/Versions/3.9/lib/python3.9/sre_parse.py:950\u001b[0m, in \u001b[0;36mparse\u001b[0;34m(str, flags, state)\u001b[0m\n\u001b[1;32m    <a href='file:///opt/homebrew/Cellar/python%403.9/3.9.12/Frameworks/Python.framework/Versions/3.9/lib/python3.9/sre_parse.py?line=946'>947</a>\u001b[0m state\u001b[39m.\u001b[39mstr \u001b[39m=\u001b[39m \u001b[39mstr\u001b[39m\n\u001b[1;32m    <a href='file:///opt/homebrew/Cellar/python%403.9/3.9.12/Frameworks/Python.framework/Versions/3.9/lib/python3.9/sre_parse.py?line=948'>949</a>\u001b[0m \u001b[39mtry\u001b[39;00m:\n\u001b[0;32m--> <a href='file:///opt/homebrew/Cellar/python%403.9/3.9.12/Frameworks/Python.framework/Versions/3.9/lib/python3.9/sre_parse.py?line=949'>950</a>\u001b[0m     p \u001b[39m=\u001b[39m _parse_sub(source, state, flags \u001b[39m&\u001b[39;49m SRE_FLAG_VERBOSE, \u001b[39m0\u001b[39;49m)\n\u001b[1;32m    <a href='file:///opt/homebrew/Cellar/python%403.9/3.9.12/Frameworks/Python.framework/Versions/3.9/lib/python3.9/sre_parse.py?line=950'>951</a>\u001b[0m \u001b[39mexcept\u001b[39;00m Verbose:\n\u001b[1;32m    <a href='file:///opt/homebrew/Cellar/python%403.9/3.9.12/Frameworks/Python.framework/Versions/3.9/lib/python3.9/sre_parse.py?line=951'>952</a>\u001b[0m     \u001b[39m# the VERBOSE flag was switched on inside the pattern.  to be\u001b[39;00m\n\u001b[1;32m    <a href='file:///opt/homebrew/Cellar/python%403.9/3.9.12/Frameworks/Python.framework/Versions/3.9/lib/python3.9/sre_parse.py?line=952'>953</a>\u001b[0m     \u001b[39m# on the safe side, we'll parse the whole thing again...\u001b[39;00m\n\u001b[1;32m    <a href='file:///opt/homebrew/Cellar/python%403.9/3.9.12/Frameworks/Python.framework/Versions/3.9/lib/python3.9/sre_parse.py?line=953'>954</a>\u001b[0m     state \u001b[39m=\u001b[39m State()\n",
      "File \u001b[0;32m/opt/homebrew/Cellar/python@3.9/3.9.12/Frameworks/Python.framework/Versions/3.9/lib/python3.9/sre_parse.py:443\u001b[0m, in \u001b[0;36m_parse_sub\u001b[0;34m(source, state, verbose, nested)\u001b[0m\n\u001b[1;32m    <a href='file:///opt/homebrew/Cellar/python%403.9/3.9.12/Frameworks/Python.framework/Versions/3.9/lib/python3.9/sre_parse.py?line=440'>441</a>\u001b[0m start \u001b[39m=\u001b[39m source\u001b[39m.\u001b[39mtell()\n\u001b[1;32m    <a href='file:///opt/homebrew/Cellar/python%403.9/3.9.12/Frameworks/Python.framework/Versions/3.9/lib/python3.9/sre_parse.py?line=441'>442</a>\u001b[0m \u001b[39mwhile\u001b[39;00m \u001b[39mTrue\u001b[39;00m:\n\u001b[0;32m--> <a href='file:///opt/homebrew/Cellar/python%403.9/3.9.12/Frameworks/Python.framework/Versions/3.9/lib/python3.9/sre_parse.py?line=442'>443</a>\u001b[0m     itemsappend(_parse(source, state, verbose, nested \u001b[39m+\u001b[39;49m \u001b[39m1\u001b[39;49m,\n\u001b[1;32m    <a href='file:///opt/homebrew/Cellar/python%403.9/3.9.12/Frameworks/Python.framework/Versions/3.9/lib/python3.9/sre_parse.py?line=443'>444</a>\u001b[0m                        \u001b[39mnot\u001b[39;49;00m nested \u001b[39mand\u001b[39;49;00m \u001b[39mnot\u001b[39;49;00m items))\n\u001b[1;32m    <a href='file:///opt/homebrew/Cellar/python%403.9/3.9.12/Frameworks/Python.framework/Versions/3.9/lib/python3.9/sre_parse.py?line=444'>445</a>\u001b[0m     \u001b[39mif\u001b[39;00m \u001b[39mnot\u001b[39;00m sourcematch(\u001b[39m\"\u001b[39m\u001b[39m|\u001b[39m\u001b[39m\"\u001b[39m):\n\u001b[1;32m    <a href='file:///opt/homebrew/Cellar/python%403.9/3.9.12/Frameworks/Python.framework/Versions/3.9/lib/python3.9/sre_parse.py?line=445'>446</a>\u001b[0m         \u001b[39mbreak\u001b[39;00m\n",
      "File \u001b[0;32m/opt/homebrew/Cellar/python@3.9/3.9.12/Frameworks/Python.framework/Versions/3.9/lib/python3.9/sre_parse.py:671\u001b[0m, in \u001b[0;36m_parse\u001b[0;34m(source, state, verbose, nested, first)\u001b[0m\n\u001b[1;32m    <a href='file:///opt/homebrew/Cellar/python%403.9/3.9.12/Frameworks/Python.framework/Versions/3.9/lib/python3.9/sre_parse.py?line=667'>668</a>\u001b[0m     \u001b[39mraise\u001b[39;00m source\u001b[39m.\u001b[39merror(\u001b[39m\"\u001b[39m\u001b[39mnothing to repeat\u001b[39m\u001b[39m\"\u001b[39m,\n\u001b[1;32m    <a href='file:///opt/homebrew/Cellar/python%403.9/3.9.12/Frameworks/Python.framework/Versions/3.9/lib/python3.9/sre_parse.py?line=668'>669</a>\u001b[0m                        source\u001b[39m.\u001b[39mtell() \u001b[39m-\u001b[39m here \u001b[39m+\u001b[39m \u001b[39mlen\u001b[39m(this))\n\u001b[1;32m    <a href='file:///opt/homebrew/Cellar/python%403.9/3.9.12/Frameworks/Python.framework/Versions/3.9/lib/python3.9/sre_parse.py?line=669'>670</a>\u001b[0m \u001b[39mif\u001b[39;00m item[\u001b[39m0\u001b[39m][\u001b[39m0\u001b[39m] \u001b[39min\u001b[39;00m _REPEATCODES:\n\u001b[0;32m--> <a href='file:///opt/homebrew/Cellar/python%403.9/3.9.12/Frameworks/Python.framework/Versions/3.9/lib/python3.9/sre_parse.py?line=670'>671</a>\u001b[0m     \u001b[39mraise\u001b[39;00m source\u001b[39m.\u001b[39merror(\u001b[39m\"\u001b[39m\u001b[39mmultiple repeat\u001b[39m\u001b[39m\"\u001b[39m,\n\u001b[1;32m    <a href='file:///opt/homebrew/Cellar/python%403.9/3.9.12/Frameworks/Python.framework/Versions/3.9/lib/python3.9/sre_parse.py?line=671'>672</a>\u001b[0m                        source\u001b[39m.\u001b[39mtell() \u001b[39m-\u001b[39m here \u001b[39m+\u001b[39m \u001b[39mlen\u001b[39m(this))\n\u001b[1;32m    <a href='file:///opt/homebrew/Cellar/python%403.9/3.9.12/Frameworks/Python.framework/Versions/3.9/lib/python3.9/sre_parse.py?line=672'>673</a>\u001b[0m \u001b[39mif\u001b[39;00m item[\u001b[39m0\u001b[39m][\u001b[39m0\u001b[39m] \u001b[39mis\u001b[39;00m SUBPATTERN:\n\u001b[1;32m    <a href='file:///opt/homebrew/Cellar/python%403.9/3.9.12/Frameworks/Python.framework/Versions/3.9/lib/python3.9/sre_parse.py?line=673'>674</a>\u001b[0m     group, add_flags, del_flags, p \u001b[39m=\u001b[39m item[\u001b[39m0\u001b[39m][\u001b[39m1\u001b[39m]\n",
      "\u001b[0;31merror\u001b[0m: multiple repeat at position 25"
     ]
    }
   ],
   "source": [
    "import re\n",
    "\n",
    "pattern = \"[\\w\\d]+@[\\w]+\\.[\\w]{2,3}\" # Check for email\n",
    "# Emails contains 1 or more characters which could be alphabets (\\w) or numbers(\\d).\n",
    "# Then they have @ (at) symbol followed by the domain name which again contains alphabets\n",
    "# Then there is the period symbol (.) followed by the domain name consisting of 2-3 characters max.\n",
    "\n",
    "pattern = \"^(?=.*\\d)(?=.*[A-Z])(?=.*[a-z])(?=.*[^\\w\\d\\s])([^\\s]){8,}$\" # Check for password\n",
    "# This checks that the password is at least 8 characters long {8,}\n",
    "# It has digits               : (?=.*\\d)\n",
    "# It has Lowercase characters : (?=.*[a-z])\n",
    "# It has Uppercase Characters : (?=.*[A-Z])\n",
    "# It has Special Characters   : (?=.*[^\\w\\d\\s])\n",
    "# Doesn't have spaces         : ([^\\s])\n",
    "# Has min length of 8         : {8,}\n",
    "# Checks within boundary      : ^ ...  $\n",
    "\n",
    "pattern = \"((\\w+:\\/\\/)[\\w\\D]+)\" # Check for url\n",
    "# protocol consisting of words and '://' part  : (\\w+:\\/\\/)\n",
    "# Then match any characters\n",
    "\n",
    "print(\"valid\" if re.search(pattern, input()) else \"invalid\")"
   ]
  },
  {
   "cell_type": "code",
   "execution_count": null,
   "metadata": {},
   "outputs": [],
   "source": [
    "# Receive arguments as list. (useful when we're dealing with positional arguments)\n",
    "def my_func(*args):\n",
    "    print(args)\n",
    "\n",
    "# Receive arguments as dictionary. (Used when we're dealing with Keyword arguments')\n",
    "\n",
    "\n",
    "def my_func(**kwargs):\n",
    "    print(kwargs)\n"
   ]
  }
 ],
 "metadata": {
  "interpreter": {
   "hash": "b0fa6594d8f4cbf19f97940f81e996739fb7646882a419484c72d19e05852a7e"
  },
  "kernelspec": {
   "display_name": "Python 3.9.12 64-bit",
   "language": "python",
   "name": "python3"
  },
  "language_info": {
   "codemirror_mode": {
    "name": "ipython",
    "version": 3
   },
   "file_extension": ".py",
   "mimetype": "text/x-python",
   "name": "python",
   "nbconvert_exporter": "python",
   "pygments_lexer": "ipython3",
   "version": "3.9.12"
  },
  "orig_nbformat": 4
 },
 "nbformat": 4,
 "nbformat_minor": 2
}
