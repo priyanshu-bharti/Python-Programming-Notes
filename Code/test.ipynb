{
 "cells": [
  {
   "cell_type": "code",
   "execution_count": 26,
   "metadata": {},
   "outputs": [
    {
     "name": "stdout",
     "output_type": "stream",
     "text": [
      "1 2 3 4 5\n"
     ]
    }
   ],
   "source": [
    "string = \"This is a centered string\"\n",
    "string2 = \"Another string\"\n",
    "\n",
    "alnum = \"23adsfa\"\n",
    "old = \"is\"\n",
    "new = \"was\"\n",
    "sub = \"This\"\n",
    "\n",
    "# Operators\n",
    "string + string2 # Concatenate 2 strings together.\n",
    "string * 2 # Repeat the string 2 times.\n",
    "\n",
    "# Length\n",
    "len(string) # Returns the length of the string\n",
    "\n",
    "# Searching elements\n",
    "string.find('st') # Returns the first occurrence of the specified substring\n",
    "string.count('t') # Returns the number of occurrences of the specified substring\n",
    "\n",
    "# Casing of characters\n",
    "string.lower() # Returns all lower case characters\n",
    "string.upper() # Returns all upper case characters\n",
    "string.title() # Capitalizes each word in a string\n",
    "string.capitalize() # Capitalizes first letter in the string.\n",
    "\n",
    "# String Manipulation\n",
    "string.replace(old, new) # Replaces all occurrences of the specified substring\n",
    "\n",
    "# Check conditions\n",
    "string.isalnum() # Contains only alphabetic and numeric characters (not even space).\n",
    "string.isalpha() # Contains only alphabetic characters\n",
    "string.isdigit() # Contains only numeric characters\n",
    "string.islower() # Check if string is lower case\n",
    "string.isupper() # Check if string is upper case\n",
    "string.startswith(sub) # Check if string starts with a substring\n",
    "string.endswith(sub) # Check if string starts with a substring\n",
    "sub in string # Check if string contains a substring\n",
    "\n",
    "# Splitting string\n",
    "string = \"1 2 3 4 5\"\n",
    "string.split(\" \")\n",
    "\n",
    "# Store multiple numbers separated by spaces in a list\n",
    "list(map(int, string.split(\" \")))\n",
    "\n",
    "print(string)"
   ]
  },
  {
   "cell_type": "code",
   "execution_count": 35,
   "metadata": {},
   "outputs": [
    {
     "data": {
      "text/plain": [
       "'ilw'"
      ]
     },
     "execution_count": 35,
     "metadata": {},
     "output_type": "execute_result"
    }
   ],
   "source": [
    "string = \"Milwaukee\"\n",
    "\n",
    "#   M   i   l   w   a   u   k   e   e\n",
    "#   0   1   2   3   4   5   6   7   8\n",
    "#  -9  -8  -7  -6  -5  -4  -3  -2  -1\n",
    "\n",
    "string[1:]      # ilwaukee  : start at 1 till the end of string\n",
    "string[1:5:2]   # iw        : start at 1 till 4 (excluding 5) and skip till the 2nd element\n",
    "string[1:5:3]   # ia        : start at 1 till 4 (excluding 5) and skip till the 3rd element\n",
    "string[:3]      # Mil : start at 0 till 2 (excluding 3)\n",
    "string[-6:-1:3] # wk : Start at -6 till -2 (excluding -1) and skip till the 3rd element\n",
    "string[-5:5]    # a : Start at -5 till 4 (excluding 5)\n",
    "string[5:-5]    # Empty : There are no elements between 5 and 3 since 5 is greater.\n",
    "string[1:-5]    # ilw : start from 1 till -4 (excluding -5)"
   ]
  },
  {
   "cell_type": "code",
   "execution_count": 40,
   "metadata": {},
   "outputs": [
    {
     "name": "stdout",
     "output_type": "stream",
     "text": [
      "<re.Match object; span=(0, 4), match='This'>\n"
     ]
    }
   ],
   "source": [
    "import re # first import re\n",
    "\n",
    "string = \"This is a string\""
   ]
  }
 ],
 "metadata": {
  "interpreter": {
   "hash": "b0fa6594d8f4cbf19f97940f81e996739fb7646882a419484c72d19e05852a7e"
  },
  "kernelspec": {
   "display_name": "Python 3.9.12 64-bit",
   "language": "python",
   "name": "python3"
  },
  "language_info": {
   "codemirror_mode": {
    "name": "ipython",
    "version": 3
   },
   "file_extension": ".py",
   "mimetype": "text/x-python",
   "name": "python",
   "nbconvert_exporter": "python",
   "pygments_lexer": "ipython3",
   "version": "3.9.12"
  },
  "orig_nbformat": 4
 },
 "nbformat": 4,
 "nbformat_minor": 2
}
