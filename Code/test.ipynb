{
 "cells": [
  {
   "cell_type": "code",
   "execution_count": null,
   "metadata": {},
   "outputs": [],
   "source": [
    "string = \"This is a centered string\"\n",
    "string2 = \"Another string\"\n",
    "\n",
    "alnum = \"23adsfa\"\n",
    "old = \"is\"\n",
    "new = \"was\"\n",
    "sub = \"This\"\n",
    "\n",
    "# Operators\n",
    "string + string2  # Concatenate 2 strings together.\n",
    "string * 2  # Repeat the string 2 times.\n",
    "\n",
    "# Length\n",
    "len(string)  # Returns the length of the string\n",
    "\n",
    "# Searching elements\n",
    "string.find('st')  # Returns the first occurrence of the specified substring\n",
    "# Returns the number of occurrences of the specified substring\n",
    "string.count('t')\n",
    "\n",
    "# Casing of characters\n",
    "string.lower()  # Returns all lower case characters\n",
    "string.upper()  # Returns all upper case characters\n",
    "string.title()  # Capitalizes each word in a string\n",
    "string.capitalize()  # Capitalizes first letter in the string.\n",
    "\n",
    "# String Manipulation\n",
    "string.replace(old, new)  # Replaces all occurrences of the specified substring\n",
    "\n",
    "# Check conditions\n",
    "# Contains only alphabetic and numeric characters (not even space).\n",
    "string.isalnum()\n",
    "string.isalpha()  # Contains only alphabetic characters\n",
    "string.isdigit()  # Contains only numeric characters\n",
    "string.islower()  # Check if string is lower case\n",
    "string.isupper()  # Check if string is upper case\n",
    "string.startswith(sub)  # Check if string starts with a substring\n",
    "string.endswith(sub)  # Check if string starts with a substring\n",
    "sub in string  # Check if string contains a substring\n",
    "\n",
    "# Splitting string\n",
    "string = \"1 2 3 4 5\"\n",
    "string.split(\" \")\n",
    "\n",
    "# Store multiple numbers separated by spaces in a list\n",
    "list(map(int, string.split(\" \")))\n",
    "\n",
    "print(string)\n"
   ]
  },
  {
   "cell_type": "code",
   "execution_count": null,
   "metadata": {},
   "outputs": [],
   "source": [
    "string = \"Milwaukee\"\n",
    "\n",
    "#   M   i   l   w   a   u   k   e   e\n",
    "#   0   1   2   3   4   5   6   7   8\n",
    "#  -9  -8  -7  -6  -5  -4  -3  -2  -1\n",
    "\n",
    "string[1:]      # ilwaukee  : start at 1 till the end of string\n",
    "# iw        : start at 1 till 4 (excluding 5) and skip till the 2nd element\n",
    "string[1:5:2]\n",
    "# ia        : start at 1 till 4 (excluding 5) and skip till the 3rd element\n",
    "string[1:5:3]\n",
    "string[:3]      # Mil : start at 0 till 2 (excluding 3)\n",
    "# wk : Start at -6 till -2 (excluding -1) and skip till the 3rd element\n",
    "string[-6:-1:3]\n",
    "string[-5:5]    # a : Start at -5 till 4 (excluding 5)\n",
    "# Empty : There are no elements between 5 and 3 since 5 is greater.\n",
    "string[5:-5]\n",
    "string[1:-5]    # ilw : start from 1 till -4 (excluding -5)\n"
   ]
  },
  {
   "cell_type": "code",
   "execution_count": null,
   "metadata": {},
   "outputs": [],
   "source": [
    "import re  # first import re\n",
    "\n",
    "string = \"This is a string\"\n"
   ]
  },
  {
   "cell_type": "code",
   "execution_count": null,
   "metadata": {},
   "outputs": [],
   "source": [
    "import re\n",
    "\n",
    "pattern = \"[\\w\\d]+@[\\w]+\\.[\\w]{2,3}\"  # Check for email\n",
    "# Emails contains 1 or more characters which could be alphabets (\\w) or numbers(\\d).\n",
    "# Then they have @ (at) symbol followed by the domain name which again contains alphabets\n",
    "# Then there is the period symbol (.) followed by the domain name consisting of 2-3 characters max.\n",
    "\n",
    "# Check for password\n",
    "pattern = \"^(?=.*\\d)(?=.*[A-Z])(?=.*[a-z])(?=.*[^\\w\\d\\s])([^\\s]){8,}$\"\n",
    "# This checks that the password is at least 8 characters long {8,}\n",
    "# It has digits               : (?=.*\\d)\n",
    "# It has Lowercase characters : (?=.*[a-z])\n",
    "# It has Uppercase Characters : (?=.*[A-Z])\n",
    "# It has Special Characters   : (?=.*[^\\w\\d\\s])\n",
    "# Doesn't have spaces         : ([^\\s])\n",
    "# Has min length of 8         : {8,}\n",
    "# Checks within boundary      : ^ ...  $\n",
    "\n",
    "pattern = \"((\\w+:\\/\\/)[\\w\\D]+)\"  # Check for url\n",
    "# protocol consisting of words and '://' part  : (\\w+:\\/\\/)\n",
    "# Then match any characters\n",
    "\n",
    "print(\"valid\" if re.search(pattern, input()) else \"invalid\")\n"
   ]
  },
  {
   "cell_type": "code",
   "execution_count": 9,
   "metadata": {},
   "outputs": [],
   "source": [
    "# Receive arguments as list. (useful when we're dealing with positional arguments)\n",
    "def my_func(*args):\n",
    "    print(args)\n",
    "\n",
    "# Receive arguments as dictionary. (Used when we're dealing with Keyword arguments')\n",
    "\n",
    "\n",
    "def my_func(**kwargs):\n",
    "    print(kwargs)\n"
   ]
  },
  {
   "cell_type": "markdown",
   "metadata": {},
   "source": [
    "# Pandas Data Frame\n"
   ]
  },
  {
   "cell_type": "code",
   "execution_count": 1,
   "metadata": {},
   "outputs": [
    {
     "data": {
      "text/html": [
       "<div>\n",
       "<style scoped>\n",
       "    .dataframe tbody tr th:only-of-type {\n",
       "        vertical-align: middle;\n",
       "    }\n",
       "\n",
       "    .dataframe tbody tr th {\n",
       "        vertical-align: top;\n",
       "    }\n",
       "\n",
       "    .dataframe thead th {\n",
       "        text-align: right;\n",
       "    }\n",
       "</style>\n",
       "<table border=\"1\" class=\"dataframe\">\n",
       "  <thead>\n",
       "    <tr style=\"text-align: right;\">\n",
       "      <th></th>\n",
       "      <th>0</th>\n",
       "    </tr>\n",
       "  </thead>\n",
       "  <tbody>\n",
       "    <tr>\n",
       "      <th>0</th>\n",
       "      <td>1</td>\n",
       "    </tr>\n",
       "    <tr>\n",
       "      <th>1</th>\n",
       "      <td>2</td>\n",
       "    </tr>\n",
       "    <tr>\n",
       "      <th>2</th>\n",
       "      <td>3</td>\n",
       "    </tr>\n",
       "    <tr>\n",
       "      <th>3</th>\n",
       "      <td>4</td>\n",
       "    </tr>\n",
       "    <tr>\n",
       "      <th>4</th>\n",
       "      <td>5</td>\n",
       "    </tr>\n",
       "  </tbody>\n",
       "</table>\n",
       "</div>"
      ],
      "text/plain": [
       "   0\n",
       "0  1\n",
       "1  2\n",
       "2  3\n",
       "3  4\n",
       "4  5"
      ]
     },
     "execution_count": 1,
     "metadata": {},
     "output_type": "execute_result"
    }
   ],
   "source": [
    "# Creating a data frame using only a list\n",
    "import pandas as pd\n",
    "\n",
    "mylist = [1, 2, 3, 4, 5]\n",
    "\n",
    "df = pd.DataFrame(mylist)\n",
    "\n",
    "df\n"
   ]
  },
  {
   "cell_type": "code",
   "execution_count": 2,
   "metadata": {},
   "outputs": [
    {
     "data": {
      "text/html": [
       "<div>\n",
       "<style scoped>\n",
       "    .dataframe tbody tr th:only-of-type {\n",
       "        vertical-align: middle;\n",
       "    }\n",
       "\n",
       "    .dataframe tbody tr th {\n",
       "        vertical-align: top;\n",
       "    }\n",
       "\n",
       "    .dataframe thead th {\n",
       "        text-align: right;\n",
       "    }\n",
       "</style>\n",
       "<table border=\"1\" class=\"dataframe\">\n",
       "  <thead>\n",
       "    <tr style=\"text-align: right;\">\n",
       "      <th></th>\n",
       "      <th>0</th>\n",
       "    </tr>\n",
       "  </thead>\n",
       "  <tbody>\n",
       "    <tr>\n",
       "      <th>a</th>\n",
       "      <td>1</td>\n",
       "    </tr>\n",
       "    <tr>\n",
       "      <th>b</th>\n",
       "      <td>2</td>\n",
       "    </tr>\n",
       "    <tr>\n",
       "      <th>c</th>\n",
       "      <td>3</td>\n",
       "    </tr>\n",
       "    <tr>\n",
       "      <th>d</th>\n",
       "      <td>4</td>\n",
       "    </tr>\n",
       "    <tr>\n",
       "      <th>e</th>\n",
       "      <td>5</td>\n",
       "    </tr>\n",
       "  </tbody>\n",
       "</table>\n",
       "</div>"
      ],
      "text/plain": [
       "   0\n",
       "a  1\n",
       "b  2\n",
       "c  3\n",
       "d  4\n",
       "e  5"
      ]
     },
     "execution_count": 2,
     "metadata": {},
     "output_type": "execute_result"
    }
   ],
   "source": [
    "# Creating a list and labeling the Rows\n",
    "\n",
    "df = pd.DataFrame(mylist, index=[\"a\", \"b\", \"c\", \"d\", \"e\"])\n",
    "\n",
    "df\n"
   ]
  },
  {
   "cell_type": "code",
   "execution_count": 4,
   "metadata": {},
   "outputs": [
    {
     "data": {
      "text/html": [
       "<div>\n",
       "<style scoped>\n",
       "    .dataframe tbody tr th:only-of-type {\n",
       "        vertical-align: middle;\n",
       "    }\n",
       "\n",
       "    .dataframe tbody tr th {\n",
       "        vertical-align: top;\n",
       "    }\n",
       "\n",
       "    .dataframe thead th {\n",
       "        text-align: right;\n",
       "    }\n",
       "</style>\n",
       "<table border=\"1\" class=\"dataframe\">\n",
       "  <thead>\n",
       "    <tr style=\"text-align: right;\">\n",
       "      <th></th>\n",
       "      <th>Integers</th>\n",
       "    </tr>\n",
       "  </thead>\n",
       "  <tbody>\n",
       "    <tr>\n",
       "      <th>a</th>\n",
       "      <td>1</td>\n",
       "    </tr>\n",
       "    <tr>\n",
       "      <th>b</th>\n",
       "      <td>2</td>\n",
       "    </tr>\n",
       "    <tr>\n",
       "      <th>c</th>\n",
       "      <td>3</td>\n",
       "    </tr>\n",
       "    <tr>\n",
       "      <th>d</th>\n",
       "      <td>4</td>\n",
       "    </tr>\n",
       "    <tr>\n",
       "      <th>e</th>\n",
       "      <td>5</td>\n",
       "    </tr>\n",
       "  </tbody>\n",
       "</table>\n",
       "</div>"
      ],
      "text/plain": [
       "   Integers\n",
       "a         1\n",
       "b         2\n",
       "c         3\n",
       "d         4\n",
       "e         5"
      ]
     },
     "execution_count": 4,
     "metadata": {},
     "output_type": "execute_result"
    }
   ],
   "source": [
    "# Creating a dataframe and also adding column name\n",
    "\n",
    "df = pd.DataFrame(mylist, index=[\"a\", \"b\", \"c\",\n",
    "                  \"d\", \"e\"], columns=[\"Integers\"])\n",
    "\n",
    "df\n"
   ]
  },
  {
   "cell_type": "code",
   "execution_count": 57,
   "metadata": {},
   "outputs": [
    {
     "data": {
      "text/plain": [
       "[('John', 5), ('Finn', 4), ('Cody', 5), ('Kenny', 4)]"
      ]
     },
     "execution_count": 57,
     "metadata": {},
     "output_type": "execute_result"
    }
   ],
   "source": [
    "# Using zip()\n",
    "\n",
    "names = [\"John\", \"Finn\", \"Cody\", \"Kenny\"]\n",
    "rating = [5, 4, 5, 4]\n",
    "\n",
    "df = pd.DataFrame(list(zip(names, rating)), columns=['Wrestlers', 'Rating'])\n",
    "\n",
    "df\n"
   ]
  },
  {
   "cell_type": "code",
   "execution_count": null,
   "metadata": {},
   "outputs": [],
   "source": []
  },
  {
   "cell_type": "code",
   "execution_count": 13,
   "metadata": {},
   "outputs": [
    {
     "data": {
      "text/html": [
       "<div>\n",
       "<style scoped>\n",
       "    .dataframe tbody tr th:only-of-type {\n",
       "        vertical-align: middle;\n",
       "    }\n",
       "\n",
       "    .dataframe tbody tr th {\n",
       "        vertical-align: top;\n",
       "    }\n",
       "\n",
       "    .dataframe thead th {\n",
       "        text-align: right;\n",
       "    }\n",
       "</style>\n",
       "<table border=\"1\" class=\"dataframe\">\n",
       "  <thead>\n",
       "    <tr style=\"text-align: right;\">\n",
       "      <th></th>\n",
       "      <th>Name</th>\n",
       "      <th>Age</th>\n",
       "    </tr>\n",
       "  </thead>\n",
       "  <tbody>\n",
       "    <tr>\n",
       "      <th>0</th>\n",
       "      <td>Tom</td>\n",
       "      <td>23</td>\n",
       "    </tr>\n",
       "    <tr>\n",
       "      <th>1</th>\n",
       "      <td>Jon</td>\n",
       "      <td>43</td>\n",
       "    </tr>\n",
       "    <tr>\n",
       "      <th>2</th>\n",
       "      <td>Tim</td>\n",
       "      <td>63</td>\n",
       "    </tr>\n",
       "    <tr>\n",
       "      <th>3</th>\n",
       "      <td>Vic</td>\n",
       "      <td>33</td>\n",
       "    </tr>\n",
       "  </tbody>\n",
       "</table>\n",
       "</div>"
      ],
      "text/plain": [
       "  Name  Age\n",
       "0  Tom   23\n",
       "1  Jon   43\n",
       "2  Tim   63\n",
       "3  Vic   33"
      ]
     },
     "execution_count": 13,
     "metadata": {},
     "output_type": "execute_result"
    }
   ],
   "source": [
    "# Using Multi-dimensional List\n",
    "\n",
    "mylist = [\n",
    "    ['Tom', 23],\n",
    "    ['Jon', 43],\n",
    "    ['Tim', 63],\n",
    "    ['Vic', 33]\n",
    "]\n",
    "\n",
    "df = pd.DataFrame(mylist, columns=['Name', 'Age'])\n",
    "\n",
    "df"
   ]
  },
  {
   "cell_type": "code",
   "execution_count": 56,
   "metadata": {},
   "outputs": [
    {
     "data": {
      "text/html": [
       "<div>\n",
       "<style scoped>\n",
       "    .dataframe tbody tr th:only-of-type {\n",
       "        vertical-align: middle;\n",
       "    }\n",
       "\n",
       "    .dataframe tbody tr th {\n",
       "        vertical-align: top;\n",
       "    }\n",
       "\n",
       "    .dataframe thead th {\n",
       "        text-align: right;\n",
       "    }\n",
       "</style>\n",
       "<table border=\"1\" class=\"dataframe\">\n",
       "  <thead>\n",
       "    <tr style=\"text-align: right;\">\n",
       "      <th></th>\n",
       "      <th>Name</th>\n",
       "      <th>Roster</th>\n",
       "      <th>Year</th>\n",
       "    </tr>\n",
       "  </thead>\n",
       "  <tbody>\n",
       "    <tr>\n",
       "      <th>MMA</th>\n",
       "      <td>UFC</td>\n",
       "      <td>89</td>\n",
       "      <td>2002</td>\n",
       "    </tr>\n",
       "    <tr>\n",
       "      <th>Mainstream Wrestling</th>\n",
       "      <td>WWE</td>\n",
       "      <td>78</td>\n",
       "      <td>1970</td>\n",
       "    </tr>\n",
       "    <tr>\n",
       "      <th>Owned</th>\n",
       "      <td>NXT</td>\n",
       "      <td>32</td>\n",
       "      <td>2012</td>\n",
       "    </tr>\n",
       "    <tr>\n",
       "      <th>Indie</th>\n",
       "      <td>AEW</td>\n",
       "      <td>128</td>\n",
       "      <td>2019</td>\n",
       "    </tr>\n",
       "  </tbody>\n",
       "</table>\n",
       "</div>"
      ],
      "text/plain": [
       "                     Name Roster  Year\n",
       "MMA                   UFC     89  2002\n",
       "Mainstream Wrestling  WWE     78  1970\n",
       "Owned                 NXT     32  2012\n",
       "Indie                 AEW    128  2019"
      ]
     },
     "execution_count": 56,
     "metadata": {},
     "output_type": "execute_result"
    }
   ],
   "source": [
    "import pandas as pd\n",
    "\n",
    "mydict = {\n",
    "    'Name': ['UFC', 'WWE', 'NXT', 'AEW'],\n",
    "    'Roster': ['89', '78', '32', '128'],\n",
    "    'Year': ['2002', '1970', '2012', '2019']\n",
    "}\n",
    "\n",
    "df = pd.DataFrame(mydict, index = ['MMA', 'Mainstream Wrestling', 'Owned', 'Indie'])\n",
    "\n",
    "df\n"
   ]
  },
  {
   "cell_type": "markdown",
   "metadata": {},
   "source": [
    "# Numpy\n"
   ]
  },
  {
   "cell_type": "code",
   "execution_count": 15,
   "metadata": {},
   "outputs": [
    {
     "name": "stdout",
     "output_type": "stream",
     "text": [
      "[1 2 3 4 5]\n"
     ]
    }
   ],
   "source": [
    "\n",
    "# Creating an array usi\n",
    "import numpy as np\n",
    "l1 = [1, 2, 3, 4, 5]\n",
    "a = np.array(l1)\n",
    "print(a)\n"
   ]
  },
  {
   "cell_type": "code",
   "execution_count": 17,
   "metadata": {},
   "outputs": [
    {
     "name": "stdout",
     "output_type": "stream",
     "text": [
      "[5 6 7 8 9]\n"
     ]
    }
   ],
   "source": [
    "# Creating numpy array using tuple\n",
    "\n",
    "t1 = (5, 6, 7, 8, 9)\n",
    "b = np.array(t1)\n",
    "print(b)\n"
   ]
  },
  {
   "cell_type": "code",
   "execution_count": 18,
   "metadata": {},
   "outputs": [
    {
     "name": "stdout",
     "output_type": "stream",
     "text": [
      "[[1 2 3]\n",
      " [4 5 6]\n",
      " [7 8 9]]\n"
     ]
    }
   ],
   "source": [
    "# Create a 2 dimensional array\n",
    "d = np.array([[1, 2, 3], [4, 5, 6], [7, 8, 9]])\n",
    "print(d)\n"
   ]
  },
  {
   "cell_type": "code",
   "execution_count": 19,
   "metadata": {},
   "outputs": [
    {
     "name": "stdout",
     "output_type": "stream",
     "text": [
      "[[11 12]\n",
      " [13 14]]\n"
     ]
    }
   ],
   "source": [
    "# Multi-dimensional array using tuple\n",
    "\n",
    "e = np.array(((11, 12), (13, 14)))\n",
    "print(e)\n"
   ]
  },
  {
   "cell_type": "code",
   "execution_count": 21,
   "metadata": {},
   "outputs": [
    {
     "name": "stdout",
     "output_type": "stream",
     "text": [
      "(5,)\n",
      "(5,)\n",
      "(3, 3)\n"
     ]
    }
   ],
   "source": [
    "# Shape of the array\n",
    "\n",
    "print(a.shape)\n",
    "print(b.shape)\n",
    "print(d.shape)\n"
   ]
  },
  {
   "cell_type": "code",
   "execution_count": 22,
   "metadata": {},
   "outputs": [
    {
     "name": "stdout",
     "output_type": "stream",
     "text": [
      "2\n"
     ]
    }
   ],
   "source": [
    "# Getting the dimension of the multi-dimension\n",
    "\n",
    "print(e.ndim)\n"
   ]
  },
  {
   "cell_type": "code",
   "execution_count": 24,
   "metadata": {},
   "outputs": [
    {
     "name": "stdout",
     "output_type": "stream",
     "text": [
      "[[0. 0. 0.]\n",
      " [0. 0. 0.]]\n",
      "[[1. 1. 1. 1. 1.]\n",
      " [1. 1. 1. 1. 1.]\n",
      " [1. 1. 1. 1. 1.]\n",
      " [1. 1. 1. 1. 1.]]\n"
     ]
    }
   ],
   "source": [
    "# Fill the array with Zeroes and Ones\n",
    "\n",
    "c1 = np.zeros((2, 3))  # 2 Rows, 3 Columns\n",
    "d1 = np.ones((4, 5))  # 4 Rows, 5 Columns\n",
    "\n",
    "print(c1)\n",
    "print(d1)\n"
   ]
  },
  {
   "cell_type": "code",
   "execution_count": 26,
   "metadata": {},
   "outputs": [
    {
     "name": "stdout",
     "output_type": "stream",
     "text": [
      "[[0 0 0]\n",
      " [0 0 0]]\n"
     ]
    }
   ],
   "source": [
    "# Fill the matrix with value of certain type\n",
    "\n",
    "c2 = np.zeros((2, 3), dtype=int)\n",
    "print(c2)\n"
   ]
  },
  {
   "cell_type": "code",
   "execution_count": 27,
   "metadata": {},
   "outputs": [
    {
     "name": "stdout",
     "output_type": "stream",
     "text": [
      "[[6. 6. 6.]\n",
      " [6. 6. 6.]\n",
      " [6. 6. 6.]]\n"
     ]
    }
   ],
   "source": [
    "# Fill the matrix with value of certain type\n",
    "\n",
    "c3 = np.full((3, 3), 6, dtype=float)\n",
    "print(c3)\n"
   ]
  },
  {
   "cell_type": "code",
   "execution_count": 28,
   "metadata": {},
   "outputs": [
    {
     "name": "stdout",
     "output_type": "stream",
     "text": [
      "[1 2 3 4 5 6 7 8]\n",
      "[11 12 13 14 15 16 17 18]\n",
      "[ 2  4  6  8 10 12 14 16]\n",
      "[-4 -3 -2 -1  0  1  2  3]\n"
     ]
    }
   ],
   "source": [
    "# scalar operations\n",
    "\n",
    "a = np.array([1, 2, 3, 4, 5, 6, 7, 8])\n",
    "\n",
    "print(a)\n",
    "print(a+10)\n",
    "print(a*2)\n",
    "print(a-5)\n"
   ]
  },
  {
   "cell_type": "code",
   "execution_count": 30,
   "metadata": {},
   "outputs": [
    {
     "name": "stdout",
     "output_type": "stream",
     "text": [
      "[[1 2]\n",
      " [3 4]]\n",
      "[[5 6]\n",
      " [7 8]]\n",
      "[[ 6  8]\n",
      " [10 12]]\n",
      "[[-4 -4]\n",
      " [-4 -4]]\n",
      "[[ 5 12]\n",
      " [21 32]]\n",
      "[[19 22]\n",
      " [43 50]]\n"
     ]
    }
   ],
   "source": [
    "# arithmetic operations\n",
    "A = np.array([[1, 2], [3, 4]])\n",
    "B = np.array([[5, 6], [7, 8]])\n",
    "\n",
    "print(A)\n",
    "print(B)\n",
    "\n",
    "print(np.add(A, B))\n",
    "print(np.subtract(A, B))\n",
    "print(np.multiply(A, B))\n",
    "print(np.dot(A, B))\n"
   ]
  },
  {
   "cell_type": "code",
   "execution_count": 31,
   "metadata": {},
   "outputs": [
    {
     "name": "stdout",
     "output_type": "stream",
     "text": [
      "[[ 1  2  3  4  5]\n",
      " [ 6  7  8  9 10]\n",
      " [11 12 13 14 15]]\n",
      "[ 1  2  3  4  5  6  7  8  9 10 11 12 13 14 15]\n"
     ]
    }
   ],
   "source": [
    "# reshape and flatten\n",
    "C = np.array([1, 2, 3, 4, 5, 6, 7, 8, 9, 10, 11, 12, 13, 14, 15])\n",
    "r = np.reshape(C, (3, 5))\n",
    "\n",
    "print(r)\n",
    "print(r.flatten())\n"
   ]
  },
  {
   "cell_type": "code",
   "execution_count": 35,
   "metadata": {},
   "outputs": [
    {
     "name": "stdout",
     "output_type": "stream",
     "text": [
      "[ 1.61168440e+01 -1.11684397e+00 -8.58274334e-16]\n"
     ]
    }
   ],
   "source": [
    "# eigen values of a matrix\n",
    "\n",
    "from numpy import linalg as linal\n",
    "\n",
    "g = linal.eigvals([[1, 2, 3], [4, 5, 6], [7, 8, 9]])\n",
    "print(g)\n"
   ]
  },
  {
   "cell_type": "code",
   "execution_count": 38,
   "metadata": {},
   "outputs": [
    {
     "name": "stdout",
     "output_type": "stream",
     "text": [
      "[1 2 3 4 5 6 7 8]\n"
     ]
    }
   ],
   "source": [
    "# transpose\n",
    "\n",
    "c = a.transpose()\n",
    "print(c)\n"
   ]
  },
  {
   "cell_type": "code",
   "execution_count": 39,
   "metadata": {},
   "outputs": [
    {
     "name": "stdout",
     "output_type": "stream",
     "text": [
      "1330.0000000000002\n"
     ]
    }
   ],
   "source": [
    "# determinant of matrix\n",
    "\n",
    "n = np.array([[50, 29], [30, 44]])\n",
    "det = linal.det(n)\n",
    "print(det)\n"
   ]
  },
  {
   "cell_type": "code",
   "execution_count": 85,
   "metadata": {},
   "outputs": [
    {
     "data": {
      "text/plain": [
       "array([[10, 10, 10],\n",
       "       [10, 10, 10],\n",
       "       [10, 10, 10]])"
      ]
     },
     "execution_count": 85,
     "metadata": {},
     "output_type": "execute_result"
    }
   ],
   "source": [
    "import numpy as np\n",
    "\n",
    "# Functions\n",
    "arr = np.array([[1,2,3],[4,5,6]])\n",
    "arr.shape\n",
    "arr.ndim\n",
    "arr.flatten()\n",
    "np.zeros((2,3))\n",
    "np.ones((2,3))\n",
    "value = 10\n",
    "np.full((3,3), value, dtype = int)\n",
    "\n",
    "# Scalar\n",
    "arr\n",
    "arr+10\n",
    "arr*2\n",
    "arr-5\n",
    "\n",
    "# Arithmetic\n",
    "np.add(A, B)\n",
    "np.subtract(A, B)\n",
    "np.multiply(A, B)\n",
    "np.dot(A, B)"
   ]
  },
  {
   "cell_type": "code",
   "execution_count": null,
   "metadata": {},
   "outputs": [],
   "source": [
    "import pandas as pd\n",
    "\n",
    "list1 = [1, 2, 3, 4, 5, 6, 7, 8, 9, 10, 11]\n",
    "a = ['a', 'b', 'c', 'd']\n",
    "b = [1, 2, 3, 4]\n",
    "\n",
    "# Creating data frame\n",
    "df = pd.read_csv(\"file.txt\")\n",
    "df = pd.DataFrame(list1)\n",
    "df = pd.DataFrame(list(zip(a, b))) # Specify index and columns\n"
   ]
  },
  {
   "cell_type": "code",
   "execution_count": 54,
   "metadata": {},
   "outputs": [
    {
     "name": "stdout",
     "output_type": "stream",
     "text": [
      "{'name': 'Priyanshu'}\n"
     ]
    }
   ],
   "source": [
    "try:\n",
    "    print(2/0)\n",
    "except:\n",
    "    print(\"Exception : You divided by Zero\")\n",
    "else:\n",
    "    print(\"If this code executes, there were no exceptions.\")\n",
    "finally:\n",
    "    print(\"This statement is always executed whether the exception occurred or not.\")\n"
   ]
  },
  {
   "cell_type": "code",
   "execution_count": 77,
   "metadata": {},
   "outputs": [
    {
     "name": "stdout",
     "output_type": "stream",
     "text": [
      "6\n",
      "0b101\n",
      "0o22\n",
      "0x11\n",
      "57\n",
      "9\n"
     ]
    }
   ],
   "source": [
    "# Conversions\n",
    "print(int(\"110\", 2)) # Binary to decimal\n",
    "print(bin(5)) # Decimal to Binary\n",
    "print(oct(18)) # Decimal to octal\n",
    "print(hex(17)) # Decimal to hex\n",
    "\n",
    "print(ord(\"9\")) # Get ascii value\n",
    "print(chr(57)) # Print character using ascii value\n"
   ]
  }
 ],
 "metadata": {
  "interpreter": {
   "hash": "b0fa6594d8f4cbf19f97940f81e996739fb7646882a419484c72d19e05852a7e"
  },
  "kernelspec": {
   "display_name": "Python 3.9.12 64-bit",
   "language": "python",
   "name": "python3"
  },
  "language_info": {
   "codemirror_mode": {
    "name": "ipython",
    "version": 3
   },
   "file_extension": ".py",
   "mimetype": "text/x-python",
   "name": "python",
   "nbconvert_exporter": "python",
   "pygments_lexer": "ipython3",
   "version": "3.9.12"
  },
  "orig_nbformat": 4
 },
 "nbformat": 4,
 "nbformat_minor": 2
}
